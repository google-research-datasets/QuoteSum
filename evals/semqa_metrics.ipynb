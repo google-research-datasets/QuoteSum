{
 "cells": [
  {
   "cell_type": "code",
   "execution_count": null,
   "id": "62f21316-a31d-4856-9fb7-1cc661e25d94",
   "metadata": {},
   "outputs": [],
   "source": [
    "from tqdm.notebook import tqdm\n",
    "import pandas\n",
    "import json\n",
    "import collections\n",
    "import numpy as np\n",
    "\n",
    "from scorers import score_all_rouge, score_semqa_f1, score_semqa_short_recall"
   ]
  },
  {
   "cell_type": "code",
   "execution_count": null,
   "id": "48c42bec-32bd-476a-bf61-b2d561b0a4c7",
   "metadata": {},
   "outputs": [],
   "source": [
    "TEST_SET_PATH = '../v1/test.jsonl'\n",
    "\n",
    "examples_by_qid = {}\n",
    "with open(TEST_SET_PATH, 'r') as f:\n",
    "    for line in f:\n",
    "        example = json.loads(line.strip())\n",
    "        if example['qid'] not in examples_by_qid:\n",
    "            examples_by_qid[example['qid']] = [example]\n",
    "        else:\n",
    "            examples_by_qid[example['qid']].append(example)\n",
    "\n",
    "examples = list(examples_by_qid.values())\n",
    "qids = list(examples_by_qid.keys())\n",
    "all_targets = [[ex['summary'] for ex in example] for example in examples]\n",
    "all_short_targets = [[ex['covered_short_answers'] for ex in example] for example in examples]"
   ]
  },
  {
   "cell_type": "code",
   "execution_count": null,
   "id": "62a4e8d2-3198-40eb-ade8-596daececf8c",
   "metadata": {},
   "outputs": [],
   "source": [
    "# Initialize predicitons dictionary\n",
    "predictions_by_model = {}\n",
    "\n",
    "def get_predictions(path):\n",
    "    predictions_by_qid = {}\n",
    "    with open(PREDICTIOS_PATH, 'r') as f:\n",
    "        for line in f:\n",
    "            example = json.loads(line.strip())\n",
    "            predictions_by_qid[example['qid']] = example['prediction']\n",
    "    \n",
    "    return [predictions_by_qid[qid] for qid in qids]"
   ]
  },
  {
   "cell_type": "code",
   "execution_count": null,
   "id": "8799e58f-2ffb-4078-b780-dc85e4c1ce42",
   "metadata": {},
   "outputs": [],
   "source": [
    "PREDICTIOS_PATH = '../predictions.jsonl' # Assumes that the file has json lines with 'qid' and 'prediction'.\n",
    "MODEL_NAME = 'Flan T5 base'\n",
    "\n",
    "predictions_by_model[MODEL_NAME] = get_predictions(PREDICTIOS_PATH)\n",
    "\n",
    "assert len(predictions_by_model[MODEL_NAME]) == len(all_targets)"
   ]
  },
  {
   "cell_type": "code",
   "execution_count": null,
   "id": "4f015ae0-b3b0-4851-a946-c9b9894cadf1",
   "metadata": {},
   "outputs": [],
   "source": [
    "metrics = collections.defaultdict(lambda: [])\n",
    "for model_name, predictions in tqdm(predictions_by_model.items()):\n",
    "  results = score_all_rouge(all_targets, predictions, bootstrap=True)[0]\n",
    "  for key, value in results.items():\n",
    "    metrics[key].append(value[0])\n",
    "  metrics['Sem-F1'].append(score_semqa_f1(all_targets, predictions, examples))\n",
    "  metrics['Sem-REC'].append(score_semqa_short_recall(all_short_targets, predictions))\n",
    "\n",
    "pandas.DataFrame(metrics, index = list(predictions_by_model.keys()))"
   ]
  },
  {
   "cell_type": "code",
   "execution_count": null,
   "id": "18c51579-56cb-4bcb-956c-ac608aaf2ed7",
   "metadata": {},
   "outputs": [],
   "source": [
    "del metrics['rouge1']\n",
    "del metrics['rouge2']"
   ]
  },
  {
   "cell_type": "code",
   "execution_count": null,
   "id": "76c88127-c734-4b6b-a090-6f7d2e4e0d5b",
   "metadata": {},
   "outputs": [],
   "source": [
    "pd = pandas.DataFrame(metrics, index = list(predictions_by_model.keys()))\n",
    "\n",
    "pd['SEMQA'] = np.sqrt(pd['Sem-F1'] * pd['rougeLsum'])\n",
    "pd"
   ]
  },
  {
   "cell_type": "code",
   "execution_count": null,
   "id": "c1ffe2ac-3c8b-4297-8d22-21bfd5b8477b",
   "metadata": {},
   "outputs": [],
   "source": [
    "pd.to_latex(float_format=\"%.2f\")"
   ]
  }
 ],
 "metadata": {
  "kernelspec": {
   "display_name": "Python 3 (ipykernel)",
   "language": "python",
   "name": "python3"
  },
  "language_info": {
   "codemirror_mode": {
    "name": "ipython",
    "version": 3
   },
   "file_extension": ".py",
   "mimetype": "text/x-python",
   "name": "python",
   "nbconvert_exporter": "python",
   "pygments_lexer": "ipython3",
   "version": "3.11.6"
  }
 },
 "nbformat": 4,
 "nbformat_minor": 5
}
